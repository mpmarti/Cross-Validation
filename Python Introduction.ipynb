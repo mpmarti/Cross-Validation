{
 "cells": [
  {
   "cell_type": "markdown",
   "metadata": {},
   "source": [
    "<h1>Introducction to Python <h1/>"
   ]
  },
  {
   "cell_type": "markdown",
   "metadata": {},
   "source": [
    "<h2>What is Python? </h2>"
   ]
  },
  {
   "cell_type": "markdown",
   "metadata": {},
   "source": [
    "Python is a programming language, that is, a language with which we can communicate with the computer. This has various uses ranging from video game development to data science. It is considered an easy to learn and very friendly language to work with. "
   ]
  },
  {
   "cell_type": "code",
   "execution_count": 1,
   "metadata": {},
   "outputs": [
    {
     "name": "stdout",
     "output_type": "stream",
     "text": [
      "The Zen of Python, by Tim Peters\n",
      "\n",
      "Beautiful is better than ugly.\n",
      "Explicit is better than implicit.\n",
      "Simple is better than complex.\n",
      "Complex is better than complicated.\n",
      "Flat is better than nested.\n",
      "Sparse is better than dense.\n",
      "Readability counts.\n",
      "Special cases aren't special enough to break the rules.\n",
      "Although practicality beats purity.\n",
      "Errors should never pass silently.\n",
      "Unless explicitly silenced.\n",
      "In the face of ambiguity, refuse the temptation to guess.\n",
      "There should be one-- and preferably only one --obvious way to do it.\n",
      "Although that way may not be obvious at first unless you're Dutch.\n",
      "Now is better than never.\n",
      "Although never is often better than *right* now.\n",
      "If the implementation is hard to explain, it's a bad idea.\n",
      "If the implementation is easy to explain, it may be a good idea.\n",
      "Namespaces are one honking great idea -- let's do more of those!\n"
     ]
    }
   ],
   "source": [
    "# The Zen of Python\n",
    "\n",
    "import this"
   ]
  },
  {
   "cell_type": "markdown",
   "metadata": {},
   "source": [
    "<h2>Basic Consept</h2>\n",
    "\n",
    "1. [Variables](#Variables)\n",
    "2. [Data Type](#DataType)\n",
    "3. [List](#List)\n",
    "4. [if Statement](#if_Statement)\n",
    "5. [Dictionaries](#Dictionaries)\n",
    "6. [Loop](#Loop)\n",
    "7. [Functions](#Functions)"
   ]
  },
  {
   "cell_type": "markdown",
   "metadata": {},
   "source": [
    "<h2>1. Variables</h2><a name=\"Variables\"></a>\n",
    "\n",
    "They are used to store values or information. The name of a variable can only contain letters, numbers and underscores."
   ]
  },
  {
   "cell_type": "code",
   "execution_count": 2,
   "metadata": {},
   "outputs": [
    {
     "name": "stdout",
     "output_type": "stream",
     "text": [
      "Hello World\n",
      "6\n",
      "12\n"
     ]
    }
   ],
   "source": [
    "#Variable can contain letters o words\n",
    "variable_name= \"Hello World\"\n",
    "print(variable_name)\n",
    "\n",
    "#Variables can contain a number\n",
    "x= 1+2+3\n",
    "y= x*2\n",
    "print(x)\n",
    "print(y)\n"
   ]
  },
  {
   "cell_type": "code",
   "execution_count": 40,
   "metadata": {},
   "outputs": [
    {
     "name": "stdout",
     "output_type": "stream",
     "text": [
      "The value of the variable y is  12\n",
      "my name is Maria Paz and I'm 32\n"
     ]
    }
   ],
   "source": [
    "# To print 2 different variables together you must use the comma \",\".\n",
    "z= \"The value of the variable y is \"\n",
    "print(z,y)\n",
    "\n",
    "name= \"Maria Paz\"\n",
    "age= 32\n",
    "print(\"my name is\", name, \"and I'm\", age)"
   ]
  },
  {
   "cell_type": "code",
   "execution_count": 4,
   "metadata": {},
   "outputs": [
    {
     "name": "stdout",
     "output_type": "stream",
     "text": [
      "MARÍA PAZ\n",
      "maría paz\n",
      "María Paz\n"
     ]
    }
   ],
   "source": [
    "#Upper,lower and title case\n",
    "\n",
    "print(name.upper())\n",
    "print(name.lower())\n",
    "print(name.title())"
   ]
  },
  {
   "cell_type": "code",
   "execution_count": 5,
   "metadata": {},
   "outputs": [
    {
     "name": "stdout",
     "output_type": "stream",
     "text": [
      "María Paz has 3 siblings: \n",
      "Tomás\n",
      "Marlene\n",
      "Nicolás\n"
     ]
    }
   ],
   "source": [
    "#White Space \\n\n",
    "\n",
    "print(name, \"has 3 siblings: \\nTomás\\nMarlene\\nNicolás\")"
   ]
  },
  {
   "cell_type": "markdown",
   "metadata": {},
   "source": [
    "<h2>2. Data Type</h2><a name=\"Datatype\"></a>\n",
    "\n",
    "In python we can find different types of object, where the most common are: Interger, Float and String. While Interger and float are numbers, the string is composed of letters or words.\n",
    "\n",
    "<h3>Interger (int)</h3>\n",
    "Represent all the whole numbers. this can be positive or negative. Examples: -2,0,3,...\n",
    "\n",
    "<h3>Float (float)</h3>\n",
    "Represent the real numbers. Exaples: 0.32, 4/6\n",
    "\n",
    "** When we do a operation with Interger or float the result we'll always get ia a float.\n",
    "\n",
    "<h3>String (str)</h3>\n",
    "It represents each word, number, character (#, %, @, ..) and space that is written between \" \". Each element of this string is part of a sequence and has an index associated with it. For example Maria:\n",
    "\n",
    "M A R I A  --> String\n",
    "<p>0  1  2  3  4 --> Index of each element</p> \n",
    "\n",
    "\n",
    "<h3>Booleans</h3>\n",
    "They are another type of object and can take 2 values: True or False\n",
    "\n",
    "For know the type of the object you can use the function type(). This will let you knoe if your object is a str, int or float.\n",
    "\n",
    "\n",
    "How to convert?\n",
    "You can convert one type of object into another type of object. That means that you can transform an interger into a float."
   ]
  },
  {
   "cell_type": "code",
   "execution_count": 6,
   "metadata": {},
   "outputs": [
    {
     "data": {
      "text/plain": [
       "str"
      ]
     },
     "execution_count": 6,
     "metadata": {},
     "output_type": "execute_result"
    }
   ],
   "source": [
    "type(-2)\n",
    "type(0.2)\n",
    "type(\"hola\")"
   ]
  },
  {
   "cell_type": "code",
   "execution_count": 7,
   "metadata": {},
   "outputs": [
    {
     "data": {
      "text/plain": [
       "'2'"
      ]
     },
     "execution_count": 7,
     "metadata": {},
     "output_type": "execute_result"
    }
   ],
   "source": [
    "#Convert\n",
    "float(4)\n",
    "int(3.4)\n",
    "int(\"1\")\n",
    "str(2)\n"
   ]
  },
  {
   "cell_type": "code",
   "execution_count": 8,
   "metadata": {},
   "outputs": [
    {
     "name": "stdout",
     "output_type": "stream",
     "text": [
      "Hello María Paz\n",
      "r\n",
      "2\n",
      "Paz\n",
      "María Paz Martínez\n",
      "maría pazmaría pazmaría paz\n",
      "Maria Paz \\ is nice\n",
      "Julieta is from Chile\n"
     ]
    }
   ],
   "source": [
    "#Practice string-variables\n",
    "\n",
    "name= \"maría paz\"\n",
    "\n",
    "print(\"Hello\", name.title())\n",
    "\n",
    "# the thrird index (or index number 2) of  the variable name is: \n",
    "print(name[2])\n",
    "\n",
    "# Find a specific element in the string. Only the index of the first elment of substring in string will be the output\n",
    "print(name.find('r'))\n",
    "\n",
    "#Slicing\n",
    "print(name[6:9].title())\n",
    "\n",
    "# 2 String\n",
    "name_lastname = name.title() + \" Martínez\"\n",
    "print(name_lastname)\n",
    "\n",
    "# multiply the string\n",
    "print(3*name)\n",
    "\n",
    "# Include back slash in string\n",
    "print(\"Maria Paz \\\\ is nice\" )\n",
    "\n",
    "# Replace the old substring with the new target substring is the segment has been found in the string\n",
    "A = \"María Paz is from Chile\"\n",
    "B = A.replace('María Paz', 'Julieta')\n",
    "print(B)"
   ]
  },
  {
   "cell_type": "code",
   "execution_count": null,
   "metadata": {},
   "outputs": [],
   "source": []
  },
  {
   "cell_type": "code",
   "execution_count": 9,
   "metadata": {},
   "outputs": [
    {
     "name": "stdout",
     "output_type": "stream",
     "text": [
      "Nestor Astor once said 'Python is super easy...'\n"
     ]
    }
   ],
   "source": [
    "#quote \"\"\n",
    "name=\"Nestor Astor\"\n",
    "message= \"'Python is super easy...'\"\n",
    "print(name, \"once said\", message)"
   ]
  },
  {
   "cell_type": "markdown",
   "metadata": {},
   "source": [
    "<h2>3. List</h2><a name=\"List\"></a>"
   ]
  },
  {
   "cell_type": "markdown",
   "metadata": {},
   "source": [
    "A list is a sequenced of different objects such as integers, float, strings, and other lists as well that allow you to store information in just one place. Each element in the list can be called by its index.\n",
    "\n",
    "The item of the list don't have to be related in any particular way. \n",
    "\n",
    "** The index position always starts at \"0\", not 1 (if we are going to use positive numbers).\n",
    "\n",
    "To create a list we have to use [ ], where the elements we want to put in it have to go inside the parenthesis and separated by commas. "
   ]
  },
  {
   "cell_type": "code",
   "execution_count": 10,
   "metadata": {},
   "outputs": [
    {
     "data": {
      "text/plain": [
       "['maria', 32.4, 1987, [1, 2, 3], ('BB', 1, 'HU', 1), 'Hello']"
      ]
     },
     "execution_count": 10,
     "metadata": {},
     "output_type": "execute_result"
    }
   ],
   "source": [
    "# The next list has 6 element\n",
    "L= [\"maria\", 32.4, 1987, [1, 2,3], (\"BB\", 1, \"HU\", 1), \"Hello\"]\n",
    "L"
   ]
  },
  {
   "cell_type": "markdown",
   "metadata": {},
   "source": [
    "<h3> 3.1 Accessing element in a list </h3>"
   ]
  },
  {
   "cell_type": "code",
   "execution_count": 11,
   "metadata": {},
   "outputs": [
    {
     "name": "stdout",
     "output_type": "stream",
     "text": [
      "maria\n",
      "Maria\n",
      "Hello\n"
     ]
    }
   ],
   "source": [
    "print(L[0])\n",
    "\n",
    "print(L[0].title())\n",
    "\n",
    "# If we want to use negative number for the index or start with the last elemnt in a list. \n",
    "# The last number has the number -1.\n",
    "# This is quite useful if you want to access the last number of the list and don't know the lenght of the list.\n",
    "print(L[-1])"
   ]
  },
  {
   "cell_type": "markdown",
   "metadata": {},
   "source": [
    "<h3> 3.2 List slicing  </h3>"
   ]
  },
  {
   "cell_type": "code",
   "execution_count": 12,
   "metadata": {},
   "outputs": [
    {
     "data": {
      "text/plain": [
       "[[1, 2, 3], ('BB', 1, 'HU', 1)]"
      ]
     },
     "execution_count": 12,
     "metadata": {},
     "output_type": "execute_result"
    }
   ],
   "source": [
    "\n",
    "L[3:5]"
   ]
  },
  {
   "cell_type": "markdown",
   "metadata": {},
   "source": [
    "<h3> 3.3 extend, append or inset to add elements to list   </h3>"
   ]
  },
  {
   "cell_type": "code",
   "execution_count": 25,
   "metadata": {},
   "outputs": [
    {
     "name": "stdout",
     "output_type": "stream",
     "text": [
      "['Juli', 'Jose', 'Titi', 'Gabo', 'Mateo', 'Maria', 'Nestor']\n",
      "['Tomas', 'Juli', 'Jose', 'Titi', 'Gabo', 'Mateo', 'Maria', 'Nestor']\n"
     ]
    }
   ],
   "source": [
    "\n",
    "L2= [\"Juli\", \"Jose\", \"Titi\", \"Gabo\", \"Mateo\"]\n",
    "\n",
    "L2.extend([\"Maria\"])\n",
    "L2.append('Nestor')\n",
    "print(L2)\n",
    "\n",
    "# When we use insert function, we can add a new elemnt at any position in our list.\n",
    "\n",
    "L2.insert(0, \"Tomas\")\n",
    "print(L2)"
   ]
  },
  {
   "cell_type": "markdown",
   "metadata": {},
   "source": [
    " <h3> 3.4 Change the element </h3>"
   ]
  },
  {
   "cell_type": "code",
   "execution_count": 28,
   "metadata": {},
   "outputs": [
    {
     "data": {
      "text/plain": [
       "['hard rock', 10, 1.2]"
      ]
     },
     "execution_count": 28,
     "metadata": {},
     "output_type": "execute_result"
    }
   ],
   "source": [
    "# Change the element based on the index\n",
    "\n",
    "A = [\"disco\", 10, 1.2]\n",
    "\n",
    "#print(A[0])\n",
    "\n",
    "A[0] = 'hard rock'\n",
    "\n",
    "A"
   ]
  },
  {
   "cell_type": "markdown",
   "metadata": {},
   "source": [
    "<h3> 3.5 Remove elements from a list </h3>"
   ]
  },
  {
   "cell_type": "code",
   "execution_count": 37,
   "metadata": {},
   "outputs": [
    {
     "name": "stdout",
     "output_type": "stream",
     "text": [
      "[0, 1, 2, 3, 4, 5, 6, 7, 8, 9]\n",
      "[1, 2, 3, 4, 5, 6, 7, 8, 9]\n",
      "[1, 2, 3, 4, 5, 6, 7, 8]\n",
      "9\n",
      "[2, 3, 4, 5, 6, 7, 8]\n",
      "[3, 4, 5, 6, 7, 8]\n"
     ]
    }
   ],
   "source": [
    "numb= [0, 1, 2, 3, 4, 5, 6, 7, 8, 9]\n",
    "print(numb)\n",
    "\n",
    "# Remove using the del statement\n",
    "del(numb[0])\n",
    "print(numb)\n",
    "\n",
    "# Remove using the pop () method --> This method removes the last item in the list, but it let you work with this after removing it.\n",
    "pop=numb.pop()\n",
    "print(numb)\n",
    "print(pop)\n",
    "\n",
    "# Remove by value with remove() method\n",
    "numb.remove(1)\n",
    "print(numb)\n",
    "\n",
    "rem= 2\n",
    "numb.remove(rem)\n",
    "print(numb)"
   ]
  },
  {
   "cell_type": "markdown",
   "metadata": {},
   "source": [
    "<h3> 3.6 Split </h3>\n",
    "\n",
    "With this function we can convert a string to a list.\n",
    "\n",
    "The Split function looks for the element you put inside the parenthesis and once this element is founded, the function removes this element and separates the string creating a new element for the list.\n",
    "\n"
   ]
  },
  {
   "cell_type": "code",
   "execution_count": 16,
   "metadata": {},
   "outputs": [
    {
     "name": "stdout",
     "output_type": "stream",
     "text": [
      "From the Str 's'= Maria Paz Martinez Vasquez , we created the list 'ls'= ['Maria', 'Paz', 'Martinez', 'Vasquez'] ,with the function split\n"
     ]
    }
   ],
   "source": [
    "# Split the string, default is by space\n",
    "s= 'Maria Paz Martinez Vasquez'\n",
    "\n",
    "ls= s.split()\n",
    "\n",
    "print(\"From the Str 's'=\", s, \", we created the list 'ls'=\",ls, \",with the function split\")"
   ]
  },
  {
   "cell_type": "code",
   "execution_count": 17,
   "metadata": {},
   "outputs": [
    {
     "name": "stdout",
     "output_type": "stream",
     "text": [
      "12223242526272829\n",
      "['12223242526272829']\n",
      "['1', '', '', '3', '4', '5', '6', '7', '8', '9']\n"
     ]
    },
    {
     "data": {
      "text/plain": [
       "10"
      ]
     },
     "execution_count": 17,
     "metadata": {},
     "output_type": "execute_result"
    }
   ],
   "source": [
    "numbers= \"12223242526272829\"\n",
    "\n",
    "print(numbers)\n",
    "\n",
    "# nothing will happen because the variable 'numbers' doesn't have white space\n",
    "print(numbers.split())\n",
    "\n",
    "\n",
    "print(numbers.split(\"2\"))\n",
    "\n",
    "# lenght of the list\n",
    "len(numbers.split(\"2\"))"
   ]
  },
  {
   "cell_type": "code",
   "execution_count": 18,
   "metadata": {},
   "outputs": [
    {
     "name": "stdout",
     "output_type": "stream",
     "text": [
      "1,,2,3\n",
      "['1,,2,3']\n",
      "['1', '', '2', '3']\n"
     ]
    }
   ],
   "source": [
    "num= \"1,,2,3\"\n",
    "\n",
    "print(num)\n",
    "print(num.split(\" \"))\n",
    "print(num.split(\",\"))"
   ]
  },
  {
   "cell_type": "markdown",
   "metadata": {},
   "source": [
    "<h3>3.7 Copy and Clone List </h3>\n",
    "Copying and cloning are very different! This is because when you copy a list, the new list changes when you modify the original list. This does not happen when you are cloning because the cloned list is totally independent (and does not change if you modify the original list)."
   ]
  },
  {
   "cell_type": "code",
   "execution_count": 19,
   "metadata": {},
   "outputs": [
    {
     "name": "stdout",
     "output_type": "stream",
     "text": [
      "[1, 'hello', '2']\n",
      "[1, 'hello', '2']\n"
     ]
    }
   ],
   "source": [
    "#copy\n",
    "\n",
    "a=[1, \"hello\"]\n",
    "b=a\n",
    "b\n",
    "a.append(\"2\")\n",
    "print(a)\n",
    "print(b)"
   ]
  },
  {
   "cell_type": "code",
   "execution_count": 20,
   "metadata": {},
   "outputs": [
    {
     "name": "stdout",
     "output_type": "stream",
     "text": [
      "[1, 'hello', '2', '4']\n",
      "[1, 'hello', '2']\n"
     ]
    }
   ],
   "source": [
    "#clone\n",
    "\n",
    "c= a[:]\n",
    "c\n",
    "\n",
    "a.append(\"4\")\n",
    "print(a)\n",
    "print(c)\n"
   ]
  },
  {
   "cell_type": "code",
   "execution_count": 21,
   "metadata": {},
   "outputs": [
    {
     "name": "stdout",
     "output_type": "stream",
     "text": [
      "My name is maria\n"
     ]
    }
   ],
   "source": [
    "# Practice List\n",
    "\n",
    "names= [\"maria\", \"nestor\", \"julieta\"]\n",
    "message = \"My name is \" + names[0]\n",
    "\n",
    "print(message)"
   ]
  },
  {
   "cell_type": "code",
   "execution_count": null,
   "metadata": {},
   "outputs": [],
   "source": []
  }
 ],
 "metadata": {
  "kernelspec": {
   "display_name": "Python 3",
   "language": "python",
   "name": "python3"
  },
  "language_info": {
   "codemirror_mode": {
    "name": "ipython",
    "version": 3
   },
   "file_extension": ".py",
   "mimetype": "text/x-python",
   "name": "python",
   "nbconvert_exporter": "python",
   "pygments_lexer": "ipython3",
   "version": "3.8.3"
  }
 },
 "nbformat": 4,
 "nbformat_minor": 4
}
