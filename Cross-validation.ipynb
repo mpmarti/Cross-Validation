{
 "cells": [
  {
   "cell_type": "markdown",
   "metadata": {},
   "source": [
    "<h3>Using Cross-Validation.</h3>\n",
    "\n",
    "<h1>What is the polynomial degree that best fits the data?</h1>\n",
    "\n",
    "<hr>\n"
   ]
  },
  {
   "cell_type": "markdown",
   "metadata": {},
   "source": [
    "<h2>Table of contents</h2>\n",
    "\n",
    "1. [Introduction](#introduction)\n",
    "2. [Data](#data)\n",
    "3. [Methodology](#methodology)\n",
    "4. [Results](#results)\n",
    "5. [Discussion](#discussion)\n",
    "6. [Conclusion](#conclusion)"
   ]
  },
  {
   "cell_type": "markdown",
   "metadata": {},
   "source": [
    "<h2>1. Introduction</h2><a name=\"introduction\"></a>\n",
    "<h3>Cross-Validation:</h3>\n",
    "- The best method for model selection\n",
    "- Predicts the best model given a data set \n",
    "- Measures the prediction error\n",
    "\n",
    "\n"
   ]
  },
  {
   "cell_type": "markdown",
   "metadata": {},
   "source": [
    "<h2>2. Data</h2><a name=\"data\"></a>\n",
    "\n",
    "The data is contained within a file with extension .dat\n"
   ]
  },
  {
   "cell_type": "markdown",
   "metadata": {},
   "source": [
    "<h2>3. Methodology</h2><a name=\"metodology\"></a>\n",
    "\n",
    "To discover the best polynomial degree that fits our data, we will use cross validation."
   ]
  },
  {
   "cell_type": "markdown",
   "metadata": {},
   "source": [
    "<h3>3.1 Import Libraries</h3>"
   ]
  },
  {
   "cell_type": "code",
   "execution_count": 1,
   "metadata": {
    "collapsed": true
   },
   "outputs": [],
   "source": [
    "# Library to handle data in a vectorized manner\n",
    "import numpy as np \n",
    "\n",
    "# Library for data analsysis\n",
    "import pandas as pd \n",
    "\n",
    "# Matplotlib and associated plotting modules\n",
    "import matplotlib.cm as cm\n",
    "import matplotlib.colors as colors\n"
   ]
  },
  {
   "cell_type": "markdown",
   "metadata": {},
   "source": [
    "<h3>3.2 Create a function to open our file</h3>\n",
    "This function reads a file with two columns, which are expected to be separated by a space.\n",
    "<h4>Parameters</h4>\n",
    "\n",
    "    file_name: string (e.g. '/Users/mpaz/archivo.dat')\n",
    "     \n",
    "<h4>Returns </h4>\n",
    "     \n",
    "    x: np.array\n",
    "     Array with the values of the first column.\n",
    "    y: np.array\n",
    "     Array with the values of the second column."
   ]
  },
  {
   "cell_type": "code",
   "execution_count": 2,
   "metadata": {
    "collapsed": true
   },
   "outputs": [],
   "source": [
    "def reed_data(file_name):\n",
    "    x,y = [],[]\n",
    "    with open(file_name, \"r\") as file:\n",
    "        i = 0\n",
    "        for line in file:\n",
    "            col1, col2 = line.split()\n",
    "            x.append(float(col1))\n",
    "            y.append(float(col2))\n",
    "    \n",
    "    return np.array(x),np.array(y)"
   ]
  },
  {
   "cell_type": "code",
   "execution_count": 3,
   "metadata": {
    "collapsed": false
   },
   "outputs": [],
   "source": [
    "file_name= \"Desktop/data.dat\"\n",
    "x,y= reed_data(file_name)\n"
   ]
  },
  {
   "cell_type": "markdown",
   "metadata": {
    "collapsed": false
   },
   "source": [
    "<h3>3.3 Create function to \"ajustar linea\"</h3>"
   ]
  },
  {
   "cell_type": "markdown",
   "metadata": {},
   "source": [
    "<h3>3.4 Create function Random</h3>\n",
    "\n",
    "This function return an array of n values. These values are randomly extracted from the x and y lists, according to the array you want to calculate.\n",
    "<h4>Parameters</h4>\n",
    "     \n",
    "    x: np.array\n",
    "     Array with the values of the first column.\n",
    "    y: np.array\n",
    "     Array with the values of the second column.\n",
    "\n",
    "<h4>Returns</h4>\n",
    "     \n",
    "    xn: array\n",
    "     Array containing the n values that were randomly taken from list x\n",
    "    yn: array\n",
    "     Array containing the n values that were randomly taken from list y\n",
    "\n",
    "     "
   ]
  },
  {
   "cell_type": "code",
   "execution_count": 4,
   "metadata": {
    "collapsed": true
   },
   "outputs": [],
   "source": [
    "def Random_n(x,y):\n",
    "    I=np.arange(N)\n",
    "    idx=np.random.choice(I,n,replace=False)\n",
    "    xn=x[idx]\n",
    "    yn=y[idx]\n",
    "\n",
    "    return xn,yn"
   ]
  },
  {
   "cell_type": "code",
   "execution_count": null,
   "metadata": {
    "collapsed": true
   },
   "outputs": [],
   "source": []
  }
 ],
 "metadata": {
  "kernelspec": {
   "display_name": "Python 2",
   "language": "python",
   "name": "python2"
  },
  "language_info": {
   "codemirror_mode": {
    "name": "ipython",
    "version": 2
   },
   "file_extension": ".py",
   "mimetype": "text/x-python",
   "name": "python",
   "nbconvert_exporter": "python",
   "pygments_lexer": "ipython2",
   "version": "2.7.13"
  }
 },
 "nbformat": 4,
 "nbformat_minor": 0
}
