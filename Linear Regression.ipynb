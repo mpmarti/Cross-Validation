{
 "cells": [
  {
   "cell_type": "markdown",
   "metadata": {},
   "source": [
    "<h1>Find the line that best fits a data set using Least Squares Regression</h1>\n",
    "\n",
    "<hr>"
   ]
  },
  {
   "cell_type": "markdown",
   "metadata": {},
   "source": [
    "<h2>Table of contents</h2>\n",
    "\n",
    "1. [Introduction](#introduction)\n",
    "2. [Data](#data)\n",
    "3. [Methodology](#methodology)\n",
    "4. [Results](#results)\n",
    "5. [Conclusion](#conclusion)"
   ]
  },
  {
   "cell_type": "markdown",
   "metadata": {},
   "source": [
    "<h2>1. Introduction</h2><a name=\"introduction\"></a>\n",
    "\n",
    "Linear Regression is a statistical method that helps us understand the relationship between 2 variables. The independent variable \"x\" and the dependent variable \"y\". The linear relationship between these two variables is define in the followin equation:\n",
    "\n",
    "$$ y = a + bx $$\n",
    "\n",
    "where \"a\" is the intercept and \"b\" is the slope. With these equation and with our data set we train our Linear Regression model.\n",
    "\n",
    "To find the parameters \"a\" and \"b\" and thus find the Linear Regression function that best fits our data set, we use the mathematical method called Least Squares Regression. This method helps us minimize the squared sum of the error, which is the difference (di) on the Y-axis between the observed value of our data and the predicted value of our training model.\n",
    "\n",
    "To calculate the sum of the error we use the Quadratic Loss Function, which can be defined as follows: \n"
   ]
  },
  {
   "cell_type": "markdown",
   "metadata": {},
   "source": [
    "$$\\hat{S} = \\sum \\limits _{i=1} ^{n} (y_{i}-\\hat{y}_{i})^2 $$"
   ]
  },
  {
   "cell_type": "markdown",
   "metadata": {
    "collapsed": false
   },
   "source": [
    "The following image shows a Linear Regression function and the error between the predicted value and the observed values. \n",
    "\n",
    "\n",
    "<img src=\"linear_regression.png\",  width=400, height=400>\n"
   ]
  },
  {
   "cell_type": "markdown",
   "metadata": {},
   "source": [
    "Once we know how to calculate the error, we have to minimize it. And for it we have to find the partial derivative of S and to equalize it to 0. In this way we are finding the minimum value that our error can reach. \n",
    "\n",
    "Doing this partial derivation with respect to a and b, we will obtain the equations that will allow us to obtain the values of the parameters. With these values we can create the final model and we will be ready to predict the values that we do not have.\n",
    "\n",
    "In our case, to obtain the most representative parameter we will repeat this process many times with the Bootstrap function and we will use many samples from our data set. After repeating the process, we are going to obtain a set of parameters for the intercept (b) and for the slope (a), which will be averaged to obtain the parameters that best fit our data. These will be the parameters that we will use in our final model.\n",
    "\n",
    "\n",
    "To create the samples or mini-datasets from our dataset, we will use the Random function of the Numpy library, which selects random data from the original dataset and creates samples with n elements. \n",
    "\n"
   ]
  },
  {
   "cell_type": "markdown",
   "metadata": {},
   "source": [
    "<h2>2. Data</h2><a name=\"data\"></a>\n",
    "\n",
    "The data was obtained from a simulation. "
   ]
  },
  {
   "cell_type": "markdown",
   "metadata": {},
   "source": [
    "<h2>3. Methodology</h2><a name=\"methodology\"></a>\n",
    "\n",
    "The first thing we do is import the Numpy and Pandas library, for data analysis, and create a function to open our dataset.\n",
    "\n",
    "After that, we create: the Linear Regression function to find the parameters \"a\" and \"b\", the Random function to create a mini-random data set from our data set, and the Bootstrap function to sample our data many times.\n",
    "\n"
   ]
  },
  {
   "cell_type": "markdown",
   "metadata": {},
   "source": [
    "<h3>3.1 Import Libraries</h3>\n"
   ]
  },
  {
   "cell_type": "code",
   "execution_count": 1,
   "metadata": {
    "collapsed": true
   },
   "outputs": [],
   "source": [
    "import numpy as np\n",
    "import pandas as pd\n",
    "import matplotlib.pyplot as plt\n",
    "\n"
   ]
  },
  {
   "cell_type": "markdown",
   "metadata": {},
   "source": [
    "<h3>3.2 Create a function to open our file</h3>\n",
    "\n",
    "This function reads a file with two columns, which are expected to be separated by a space.\n",
    "<h4>Parameters</h4>\n",
    "\n",
    "    file_name: string (e.g. '/Users/mpaz/archivo.dat')\n",
    "     \n",
    "<h4>Returns </h4>\n",
    "     \n",
    "    x: np.array\n",
    "     Array with the values of the first column.\n",
    "    y: np.array\n",
    "     Array with the values of the second column."
   ]
  },
  {
   "cell_type": "code",
   "execution_count": 2,
   "metadata": {
    "collapsed": false
   },
   "outputs": [],
   "source": [
    "def reed_data(file_name):\n",
    "    x,y = [],[]\n",
    "    with open(file_name, \"r\") as file:\n",
    "        i = 0\n",
    "        for line in file:\n",
    "            col1, col2 = line.split()\n",
    "            x.append(float(col1))\n",
    "            y.append(float(col2))\n",
    "    \n",
    "    return np.array(x),np.array(y)\n",
    "    return np.array(x),np.array(y)"
   ]
  },
  {
   "cell_type": "markdown",
   "metadata": {},
   "source": [
    "<h3>3.3 Define the function to find the a and b coefficients of the Lineal Regression  </h3>\n",
    "\n",
    "This function adjusts a least square regression curve and returns the values of a and b\n",
    "\n",
    "\n",
    "    Parameters\n",
    "    -----------\n",
    "    x: np.array\n",
    "    Array with the values of x.\n",
    "    y: np.array\n",
    "    Array with the values of y.\n",
    "\n",
    "    Returns\n",
    "    -------\n",
    "    a: float\n",
    "    Slope of the function\n",
    "\n",
    "    b: float\n",
    "    Interception point with the y-axis of the min-square function\n",
    "\n"
   ]
  },
  {
   "cell_type": "code",
   "execution_count": 3,
   "metadata": {
    "collapsed": true
   },
   "outputs": [],
   "source": [
    "def lineal_regression(x,y):\n",
    "\n",
    "    n=len(x)\n",
    "    b = ((sum(y) * sum(x ** 2)) - (sum(x * y) * sum(x))) / (n * sum(x ** 2) - (sum(x) * sum(x)))\n",
    "    a = (sum(y) - n * b) / (sum(x))\n",
    "\n",
    "    return a,b"
   ]
  },
  {
   "cell_type": "markdown",
   "metadata": {},
   "source": [
    "<h3>3.4 Create function Random</h3>\n",
    "\n",
    "This function returns the array \"xn\" and \"xy\" with a set of n values. These values are randomly extracted from the x and y lists, according to the array you want to calculate.\n",
    "\n",
    "\n",
    "<h4>Parameters</h4>\n",
    "     \n",
    "    x: np.array\n",
    "     Array with the values of the first column.\n",
    "    y: np.array\n",
    "     Array with the values of the second column.\n",
    "\n",
    "<h4>Returns</h4>\n",
    "     \n",
    "    xn: array\n",
    "     Array containing the n values that were randomly taken from list x\n",
    "    yn: array\n",
    "     Array containing the n values that were randomly taken from list y\n",
    "\n",
    "     "
   ]
  },
  {
   "cell_type": "code",
   "execution_count": 4,
   "metadata": {
    "collapsed": true
   },
   "outputs": [],
   "source": [
    "def Random_n(x,y):\n",
    "\n",
    "    I=np.arange(N)\n",
    "    idx=np.random.choice(I,n,replace=False)\n",
    "    xn=x[idx]\n",
    "    yn=y[idx]\n",
    "\n",
    "    return xn,yn"
   ]
  },
  {
   "cell_type": "markdown",
   "metadata": {},
   "source": [
    "<h3>3.4 Define the function Bootstrap  </h3>\n",
    "\n",
    "This function will resample our data set many time."
   ]
  },
  {
   "cell_type": "code",
   "execution_count": 5,
   "metadata": {
    "collapsed": true
   },
   "outputs": [],
   "source": [
    "def Bootstrap(x,y,n,M,plot_line=True):\n",
    "    aa, bb = [], []\n",
    "    for i in range(M):\n",
    "        xi,yi = Random_n(x, y)\n",
    "        ai,bi = lineal_regression(xi,yi)\n",
    "        c=ai*x+bi\n",
    "\n",
    "        aa.append(ai)\n",
    "        bb.append(bi)\n",
    "\n",
    "        if plot_line:\n",
    "            plt.plot(x,c,'-',color='cornflowerblue',alpha=0.05,zorder=2)\n",
    "    plt.show()\n",
    "\n",
    "    return aa,bb"
   ]
  },
  {
   "cell_type": "markdown",
   "metadata": {},
   "source": [
    "<h2>4. Results</h2><a name=\"results\"></a>"
   ]
  },
  {
   "cell_type": "code",
   "execution_count": 6,
   "metadata": {
    "collapsed": false
   },
   "outputs": [],
   "source": [
    "# First, we define the name of the file from which we are going to extract the N data:\n",
    "\n",
    "file_name= \"/Users/mpaz/Desktop/data.dat\"\n",
    "\n",
    "# Read the data:\n",
    "\n",
    "x,y= reed_data(file_name)\n",
    "\n",
    "# Fit a line to the data:\n",
    "a,b = lineal_regression(x,y)\n",
    "\n",
    "# Define the values for the Bootstrap:\n",
    "N=len(x)\n",
    "n=10\n",
    "M=10000\n",
    "\n",
    "# create mini lists xn, yn representing the random samples of the N of x,y.\n",
    "xn,yn= Random_n(x,y)\n"
   ]
  },
  {
   "cell_type": "code",
   "execution_count": 7,
   "metadata": {
    "collapsed": false
   },
   "outputs": [],
   "source": [
    "# See the data\n",
    "\n",
    "plt.plot(x,y,'.',mfc = 'blue',mec='blue',zorder=3)\n",
    "plt.xlabel('x')\n",
    "plt.ylabel('y')\n",
    "plt.show()"
   ]
  },
  {
   "cell_type": "code",
   "execution_count": 9,
   "metadata": {
    "collapsed": false
   },
   "outputs": [],
   "source": [
    "# See correlation between a and b\n",
    "\n",
    "aa,bb = Bootstrap(x,y,n,M,plot_line=False)\n",
    "\n",
    "plt.plot(aa,bb, \".\")\n",
    "#plt.xlim(-10,15)\n",
    "#plt.ylim(-10,15)\n",
    "plt.xlabel('a')\n",
    "plt.ylabel('b')\n",
    "plt.show()"
   ]
  },
  {
   "cell_type": "code",
   "execution_count": 26,
   "metadata": {
    "collapsed": false
   },
   "outputs": [
    {
     "name": "stdout",
     "output_type": "stream",
     "text": [
      "The parameter a is equal to:  3.02375823156 and the parameter b is equal to 8.48499300041\n"
     ]
    }
   ],
   "source": [
    "# Calculate the average of the parameters to obtain the final parameter\n",
    "\n",
    "print \"The parameter a is equal to: \" ,sum(aa)/len(aa), \"and the parameter b is equal to\", sum(bb)/len(bb)\n"
   ]
  },
  {
   "cell_type": "code",
   "execution_count": 39,
   "metadata": {
    "collapsed": false
   },
   "outputs": [],
   "source": [
    "# Linear regression\n",
    "A= sum(aa)/len(aa)\n",
    "B= sum(bb)/len(aa)\n",
    "Y_pred = A*x + B\n",
    "\n",
    "plt.plot(x,y,'.',mfc = 'blue',mec='blue',zorder=3)\n",
    "plt.plot(x, A*x + B, zorder = 4, color=\"pink\")\n",
    "plt.show()"
   ]
  },
  {
   "cell_type": "markdown",
   "metadata": {},
   "source": [
    "<h2>5. Conclusion</h2><a name=\"conclusion\"></a>"
   ]
  },
  {
   "cell_type": "markdown",
   "metadata": {
    "collapsed": true
   },
   "source": [
    "Using Least Square Regression is the best method to find a linear regression in the data set and if you want to be more accurate you can use the Random and Bootstrap function to get the best parameter for our model."
   ]
  }
 ],
 "metadata": {
  "kernelspec": {
   "display_name": "Python 2",
   "language": "python",
   "name": "python2"
  },
  "language_info": {
   "codemirror_mode": {
    "name": "ipython",
    "version": 2
   },
   "file_extension": ".py",
   "mimetype": "text/x-python",
   "name": "python",
   "nbconvert_exporter": "python",
   "pygments_lexer": "ipython2",
   "version": "2.7.13"
  }
 },
 "nbformat": 4,
 "nbformat_minor": 0
}
