{
 "cells": [
  {
   "cell_type": "markdown",
   "metadata": {},
   "source": [
    "<h1>Linear Regression</h1>\n",
    "\n",
    "<hr>"
   ]
  },
  {
   "cell_type": "markdown",
   "metadata": {},
   "source": [
    "<h2>Table of contents</h2>\n",
    "\n",
    "1. [Introduction](#introduction)\n",
    "2. [Data](#data)\n",
    "3. [Methodology](#methodology)\n",
    "4. [Results](#results)\n",
    "5. [Discussion](#discussion)\n",
    "6. [Conclusion](#conclusion)"
   ]
  },
  {
   "cell_type": "markdown",
   "metadata": {},
   "source": [
    "<h2>1. Introduction</h2><a name=\"introduction\"></a>\n"
   ]
  },
  {
   "cell_type": "markdown",
   "metadata": {},
   "source": [
    "<h2>2. Data</h2><a name=\"data\"></a>"
   ]
  },
  {
   "cell_type": "markdown",
   "metadata": {},
   "source": [
    "<h2>3. Methodology</h2><a name=\"methodology\"></a>"
   ]
  },
  {
   "cell_type": "markdown",
   "metadata": {},
   "source": [
    "<h3>3.1 Import Libraries</h3>\n"
   ]
  },
  {
   "cell_type": "code",
   "execution_count": 27,
   "metadata": {
    "collapsed": true
   },
   "outputs": [],
   "source": [
    "import numpy as np\n",
    "import pandas as pd\n",
    "import matplotlib.pyplot as plt\n"
   ]
  },
  {
   "cell_type": "markdown",
   "metadata": {},
   "source": [
    "<h3>3.2 Create a function to open our file</h3>\n",
    "\n",
    "This function reads a file with two columns, which are expected to be separated by a space.\n",
    "<h4>Parameters</h4>\n",
    "\n",
    "    file_name: string (e.g. '/Users/mpaz/archivo.dat')\n",
    "     \n",
    "<h4>Returns </h4>\n",
    "     \n",
    "    x: np.array\n",
    "     Array with the values of the first column.\n",
    "    y: np.array\n",
    "     Array with the values of the second column."
   ]
  },
  {
   "cell_type": "code",
   "execution_count": 28,
   "metadata": {
    "collapsed": false
   },
   "outputs": [],
   "source": [
    "def reed_data(file_name):\n",
    "    x,y = [],[]\n",
    "    with open(file_name, \"r\") as file:\n",
    "        i = 0\n",
    "        for line in file:\n",
    "            col1, col2 = line.split()\n",
    "            x.append(float(col1))\n",
    "            y.append(float(col2))\n",
    "    \n",
    "    return np.array(x),np.array(y)\n",
    "    return np.array(x),np.array(y)"
   ]
  },
  {
   "cell_type": "markdown",
   "metadata": {},
   "source": [
    "<h3>3.3 Define the function to find the a and b coefficients of the Lineal Regression  </h3>\n",
    "\n",
    "This function adjusts a least square regression curve and returns the values of a and b\n",
    "\n",
    "\n",
    "    Parameters\n",
    "    -----------\n",
    "    x: np.array\n",
    "    Array with the values of x.\n",
    "    y: np.array\n",
    "    Array with the values of y.\n",
    "\n",
    "    Returns\n",
    "    -------\n",
    "    a: float\n",
    "    Slope of the function\n",
    "\n",
    "    b: float\n",
    "    Interception point with the y-axis of the min-square function\n",
    "\n"
   ]
  },
  {
   "cell_type": "code",
   "execution_count": 29,
   "metadata": {
    "collapsed": true
   },
   "outputs": [],
   "source": [
    "def lineal_regression(x,y):\n",
    "\n",
    "    n=len(x)\n",
    "    b = ((sum(y) * sum(x ** 2)) - (sum(x * y) * sum(x))) / (n * sum(x ** 2) - (sum(x) * sum(x)))\n",
    "    a = (sum(y) - n * b) / (sum(x))\n",
    "\n",
    "    return a,b"
   ]
  },
  {
   "cell_type": "markdown",
   "metadata": {},
   "source": [
    "<h3>3.4 Create function Random</h3>\n",
    "\n",
    "This function returns the array \"xn\" and \"xy\" with a set of n values. These values are randomly extracted from the x and y lists, according to the array you want to calculate.\n",
    "\n",
    "\n",
    "<h4>Parameters</h4>\n",
    "     \n",
    "    x: np.array\n",
    "     Array with the values of the first column.\n",
    "    y: np.array\n",
    "     Array with the values of the second column.\n",
    "\n",
    "<h4>Returns</h4>\n",
    "     \n",
    "    xn: array\n",
    "     Array containing the n values that were randomly taken from list x\n",
    "    yn: array\n",
    "     Array containing the n values that were randomly taken from list y\n",
    "\n",
    "     "
   ]
  },
  {
   "cell_type": "code",
   "execution_count": 30,
   "metadata": {
    "collapsed": true
   },
   "outputs": [],
   "source": [
    "def Random_n(x,y):\n",
    "\n",
    "    I=np.arange(N)\n",
    "    idx=np.random.choice(I,n,replace=False)\n",
    "    xn=x[idx]\n",
    "    yn=y[idx]\n",
    "\n",
    "    return xn,yn"
   ]
  },
  {
   "cell_type": "markdown",
   "metadata": {},
   "source": [
    "<h3>3.4 Define the function Bootstrap  </h3>\n",
    "\n",
    "This function will resample our data set many time."
   ]
  },
  {
   "cell_type": "code",
   "execution_count": 31,
   "metadata": {
    "collapsed": true
   },
   "outputs": [],
   "source": [
    "def Bootstrap(x,y,n,M,plot_line=True):\n",
    "    aa, bb = [], []\n",
    "    for i in range(M):\n",
    "        xi,yi = Random_n(x, y)\n",
    "        ai,bi = lineal_regression(xi,yi)\n",
    "        c=ai*x+bi\n",
    "\n",
    "        aa.append(ai)\n",
    "        bb.append(bi)\n",
    "\n",
    "        if plot_line:\n",
    "            plt.plot(x,c,'-',color='cornflowerblue',alpha=0.05,zorder=2)\n",
    "    plt.show()\n",
    "\n",
    "    return aa,bb"
   ]
  },
  {
   "cell_type": "markdown",
   "metadata": {},
   "source": [
    "<h2>4. Results</h2><a name=\"results\"></a>"
   ]
  },
  {
   "cell_type": "code",
   "execution_count": 33,
   "metadata": {
    "collapsed": false
   },
   "outputs": [],
   "source": [
    "# Primero, definimos el nombre del archivo del que vamos a extraer los N datos:\n",
    "\n",
    "file_name= \"/Users/mpaz/Desktop/data.dat\"\n",
    "\n",
    "# Leo los datos:\n",
    "\n",
    "x,y= reed_data(file_name)\n",
    "\n",
    "# Ajusto una linea a los datos:\n",
    "a,b = lineal_regression(x,y)\n",
    "\n",
    "# Defino valores para el Bootstrap:\n",
    "N=len(x)\n",
    "n=10\n",
    "M=10000\n",
    "\n",
    "# Mini listas xn,yn que representan las muestras random del N de x,y.\n",
    "xn,yn= Random_n(x,y)\n"
   ]
  },
  {
   "cell_type": "code",
   "execution_count": 35,
   "metadata": {
    "collapsed": false
   },
   "outputs": [],
   "source": [
    "plt.plot(x,y,'.',mfc = 'white',mec='black',zorder=3)\n",
    "\n",
    "aa,bb = Bootstrap(x,y,n,M,plot_line=False)\n",
    "\n",
    "plt.plot(aa,bb, \".\")\n",
    "#plt.xlim(-10,15)\n",
    "#plt.ylim(-10,15)\n",
    "plt.xlabel('a')\n",
    "plt.ylabel('b')\n",
    "plt.show()"
   ]
  },
  {
   "cell_type": "code",
   "execution_count": null,
   "metadata": {
    "collapsed": true
   },
   "outputs": [],
   "source": []
  }
 ],
 "metadata": {
  "kernelspec": {
   "display_name": "Python 2",
   "language": "python",
   "name": "python2"
  },
  "language_info": {
   "codemirror_mode": {
    "name": "ipython",
    "version": 2
   },
   "file_extension": ".py",
   "mimetype": "text/x-python",
   "name": "python",
   "nbconvert_exporter": "python",
   "pygments_lexer": "ipython2",
   "version": "2.7.13"
  }
 },
 "nbformat": 4,
 "nbformat_minor": 0
}
